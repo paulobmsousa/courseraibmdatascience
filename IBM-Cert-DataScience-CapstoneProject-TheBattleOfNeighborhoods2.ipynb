{
 "cells": [
  {
   "cell_type": "markdown",
   "metadata": {},
   "source": [
    "# IBM Data Science Certification\n",
    "## Capstone Project: Battle of Neighborhoods\n",
    "### Study Case: Comparison Between Toronto and Ottawa\n",
    "This work is part of the credential to Data Science Specialization from Coursera"
   ]
  },
  {
   "cell_type": "markdown",
   "metadata": {},
   "source": [
    "## Week 1 Task"
   ]
  },
  {
   "cell_type": "markdown",
   "metadata": {},
   "source": [
    "### 1.1. Description of the problem and a discussion of the background\n",
    "\n",
    "**CONTEXTUALIZATION**\n",
    "\n",
    "This case is based on a **real case**: One year ago, we decided to move to Canada. That time we needed to decide *what* city should be the better choice between two options: **Toronto** and **Ottawa**. Of course, several factors can be considered, including objective or subjetive ones. Science cannot deal with the last kind, but if we consider numerical values under the first aspect, maybe it is possible to have a diagnosis about the better choice.\n",
    "\n",
    "In this work, I am using **DATA SCIENCE**, in order to colaborate with the decision that, in fact, we have made before. This tool can reinforce that when we consider personal aspects (most related with family and quality of life), our final decision was in fact correct.\n",
    "\n",
    "**BACKGROUND**\n",
    "\n",
    "This problem is a very common situation when we consider the doubt related with the best destiny for immigrant families that need to consider different aspects. The first problem is related with the *factors* that must be considered in order to get the result to the original problem.\n",
    "\n",
    "In this situation, getting *trusted* and *updated* information is crucial. The second problem is that you need to have similar data from both options: having a detailed data of only one city is not fair and sometimes it is a challenge.\n"
   ]
  },
  {
   "cell_type": "markdown",
   "metadata": {},
   "source": [
    "### 1.2. Description of the data and how it will be used to solve the problem\n",
    "\n",
    "**DATA SOURCE**\n",
    "\n",
    "*Source 1: FourSquare*\n",
    "\n",
    "As mentioned, similar data must be obtained. In fact, using the information from the laboratories in this specialization, I have got details about one city (Toronto). It should be relatively easy to have similar information about the other destiny (Ottawa).\n",
    "\n",
    "In fact, only changing the information about the city, the libraries and services from **Foursquare** (https://api.foursquare.com/) were enough to get the complementary information about the Capital City, considering the main Venues obtained from the free service. It was the *first* criterion used in this comparison exercise.\n",
    "\n",
    "*Source 2: Versus*\n",
    "\n",
    "The second criterion was chosen by the information recorded at **Versus** (https://versus.com/en/ottawa-vs-toronto), when we have several indicators in order to compare both cities. However, in order to have a fair situation, both aspects: advantages from both cities were considered. In this situation, it was necessary to combine two tables in a single one, with permutation of some elements, in order to get a whole picture.\n",
    "\n",
    "**USE OF THE INFORMATION**\n",
    "\n",
    "If I just used the information without any particular criteria, I just have an equilibrium of the both cities. It looks like correct, but, in fact, it is not and the reason is because for this specific situation, some indicators are more relevant than others.\n",
    "\n",
    "For instance, does not matter that both cities can have 100 venues in a specific perimeter: what is relevant is what of these places are considered *relevant* to my situation (family). At the same way, it is unfair that the 16 indicators collected in the Versus page are considered with the same weight: some of them are more important than others.\n",
    "\n",
    "Only after this kind of preparation of the data, is that I could perform the analysis.\n",
    "\n",
    "**DATA DESCRIPTION**\n",
    "\n",
    "*Source 1: FourSquare*\n",
    "\n",
    "After request the service for Venues (https://api.foursquare.com/v2/venues/explore), it is peformed a filter in order to use only the following information:\n",
    "\n",
    "- Venue name;\n",
    "- Venue category;\n",
    "- Venue location (latitude / longitude).\n",
    "\n",
    "The category was specially important because it is used to mark some venues as important (\"*top*\") or not. It is also shown in the map of both cities.\n",
    "\n",
    "*Source 2: Versus*\n",
    "\n",
    "From this page, I used all the 16 initial indicators:\n",
    "\n",
    "- Population density;\n",
    "- Monthly public transport ticket;\n",
    "- Unemployment rate;\n",
    "- Cost of one-bedroom ap. in the center;\n",
    "- Younger population;\n",
    "- Income inequalities;\n",
    "- Landmarks from UNESCO World Heritage list;\n",
    "- Average minimum temperature;\n",
    "- Higher average maximum temperature;\n",
    "- Higher average temperature;\n",
    "- Million inhabitants;\n",
    "- Billion higher gross domestic product (GDP);\n",
    "- Higher average salary;\n",
    "- 2 more big sport facilities;\n",
    "- Cost of one single transportation ticket;\n",
    "- Billionaires from annual Forbes.\n",
    "\n",
    "However, as mentioned above, only some of them were considered really important to our final decision.\n"
   ]
  },
  {
   "cell_type": "markdown",
   "metadata": {},
   "source": [
    "## Week 2 Task"
   ]
  },
  {
   "cell_type": "markdown",
   "metadata": {},
   "source": [
    "### 2.1. Link to your Notebook on your Github repository, showing your code\n",
    "\n",
    "**REPOSITORY**\n",
    "\n",
    "The repository can be found at my Github pages (https://github.com/paulobmsousa).\n"
   ]
  },
  {
   "cell_type": "markdown",
   "metadata": {},
   "source": [
    "### 2.2. Full report consisting of all of the following components\n",
    "\n",
    "#### 2.2.1. Introduction where you discuss the business problem and who would be interested in this project.\n",
    "\n",
    "**BUSINESS PROBLEM**\n",
    "\n",
    "As previously mentioned (see information in the section of **Week 1**, this problem is closer to situation when you need to decide which city can be chosen for a particular purpose. In my specific (and realistic) scenarium, the purpose is for a *family immigration*. However, it can be widely used for different situations (maybe with minor personal impact), for instance, where is the best place to start a new small business company.\n",
    "\n",
    "**INTERESTS**\n",
    "\n",
    "Decision making is a very common situation that ML (Machine Learning) or simply data analysis can be used. In fact, the main purpose is having a better view in order to take a decison. It also important to say (and it is shown in the example) that is not only the *amount* of data, but also its **quality** (for instance, how updated it is) and the **relevance**, in order to avoid to make ponctuations without any particular criterion. \n",
    "\n",
    "#### 2.2.2. Data where you describe the data that will be used to solve the problem and the source of the data.\n",
    "\n",
    "Also introduced in the **Week 1** section, the data was composed by two sources: **Foursquare** service [1] and **Versus** indicators page [2].\n",
    "\n",
    "[1] https://api.foursquare.com/\n",
    "\n",
    "[2] https://versus.com/en/ottawa-vs-toronto\n",
    "\n",
    "However, both information was also treated according relevant aspects considered to my particular case: immigration, considering the better conditions to a family in one of the cities (Toronto or Ottawa). \n",
    "\n",
    "#### 2.2.3. Methodology (discuss and describe any exploratory data analysis)\n",
    "\n",
    "The methodology can be resumed in the following steps:\n",
    "\n",
    "- 1. General preparation: When libraries, importation and functions are defined;\n",
    "\n",
    "- 2. Data gathering and analysis: Using **Foursquare** and **Versus** information;\n",
    "\n",
    "- 3. Conclusion: Combining the results in order to decide the best city.\n",
    "\n",
    "Some aditional notes (detailed in the Solution description below):\n",
    "\n",
    "* It is important to see that the information had to be prepared and combined from the Versus data;\n",
    "\n",
    "* Method to extract numerical information from Versus was also implemented, in order to adjust the output of BeautifulSoup.\n",
    "\n",
    "#### 2.2.4. Results\n",
    "\n",
    "The results are shown according the criteria used and the best indicators chosen to the specific scenarium.\n",
    "\n",
    "#### 2.2.5. Observations you noted and recommendations based on the results.\n",
    "\n",
    "**BASIC OBSERVATIONS**\n",
    "\n",
    "The first aspect is that data need to be understood and apropriately used. For instance, we need to mark whici indicators were more appropriated to the current proof of concepts.\n",
    "\n",
    "**RECOMENDATIONS**\n",
    "\n",
    "Evaluation under different criterium, for instance, changing the categories of venues considered priority, are also relevant and it depends from each case.\n",
    "\n",
    "#### 2.2.6. Conclusion section where you conclude the report.\n",
    "\n",
    "This study was based in a real fact: the decision where to go, considering particular aspects. \n",
    "\n",
    "Maybe in the future, newcomers can use this example, with their own data, in order to help to take a decision like this.\n"
   ]
  },
  {
   "cell_type": "markdown",
   "metadata": {},
   "source": [
    "### 2.3. Presentation (or Blog post)\n",
    "\n",
    "**PRESENTATION**\n",
    "\n",
    "The presentation with the summary of this case can also be seen at Github pages (https://github.com/paulobmsousa).\n"
   ]
  },
  {
   "cell_type": "markdown",
   "metadata": {},
   "source": [
    "## Methodology (Solution)\n",
    "\n",
    "### Step 1: General Preparation\n",
    "\n",
    "- **Step_1.1**: The first step is to install packages, specially related to pandas (dataframes) and geolocalization"
   ]
  },
  {
   "cell_type": "code",
   "execution_count": 1,
   "metadata": {},
   "outputs": [
    {
     "data": {
      "text/plain": [
       "'\\n# Uncomment to perform package installations\\n! pip install pandas\\n! pip install geopy\\n! pip install folium\\n'"
      ]
     },
     "execution_count": 1,
     "metadata": {},
     "output_type": "execute_result"
    }
   ],
   "source": [
    "'''\n",
    "# Uncomment to perform package installations\n",
    "! pip install pandas\n",
    "! pip install geopy\n",
    "! pip install folium\n",
    "'''"
   ]
  },
  {
   "cell_type": "markdown",
   "metadata": {},
   "source": [
    "- **Step_1.2**: The importation of the packages that will be used in this lab."
   ]
  },
  {
   "cell_type": "code",
   "execution_count": 2,
   "metadata": {},
   "outputs": [],
   "source": [
    "# General frame libraries\n",
    "import pandas as pd\n",
    "# Soup libraries\n",
    "from bs4 import BeautifulSoup\n",
    "from pandas.compat import StringIO\n",
    "import json # library to handle JSON files\n",
    "import requests # library to handle requests\n",
    "from pandas.io.json import json_normalize # tranform JSON file into a pandas dataframe\n",
    "# Maps library\n",
    "import folium\n",
    "from geopy.geocoders import Nominatim # module to convert an address into latitude and longitude values\n",
    "from IPython.display import Image \n",
    "from IPython.core.display import HTML \n",
    "# Plot library\n",
    "import numpy as np\n",
    "import matplotlib.pyplot as plt"
   ]
  },
  {
   "cell_type": "markdown",
   "metadata": {},
   "source": [
    "- **Step_1.3**: General configuration (that will be used by functions).\n",
    "\n",
    "Pandas and Matplot configuration."
   ]
  },
  {
   "cell_type": "code",
   "execution_count": 3,
   "metadata": {},
   "outputs": [],
   "source": [
    "# Pandas configuration\n",
    "pd.set_option('display.max_columns', None)\n",
    "pd.set_option('display.max_rows', None)\n",
    "# Matplot inline\n",
    "%matplotlib inline"
   ]
  },
  {
   "cell_type": "markdown",
   "metadata": {},
   "source": [
    "Foursquare personal credentials (should be hiden for security)"
   ]
  },
  {
   "cell_type": "code",
   "execution_count": 4,
   "metadata": {},
   "outputs": [],
   "source": [
    "# Define Foursquare Credentials and Versions\n",
    "CLIENT_ID = '' # your Foursquare ID\n",
    "CLIENT_SECRET = '' # your Foursquare Secret\n",
    "VERSION = '20181102' # Foursquare API version"
   ]
  },
  {
   "cell_type": "markdown",
   "metadata": {},
   "source": [
    "Parameters to get Venues from Foursquare API."
   ]
  },
  {
   "cell_type": "code",
   "execution_count": 5,
   "metadata": {},
   "outputs": [],
   "source": [
    "# Plot definition\n",
    "LIMIT = 100\n",
    "radius = 10000 #500 (Changed in order to get more venues from each city)\n",
    "geolocator = Nominatim(user_agent=\"TO_explorer\")"
   ]
  },
  {
   "cell_type": "markdown",
   "metadata": {},
   "source": [
    "- **Step_1.4**: In this part, all funcions are defined\n",
    "\n",
    "Categories of Venue from Foursquere list response."
   ]
  },
  {
   "cell_type": "code",
   "execution_count": 6,
   "metadata": {},
   "outputs": [],
   "source": [
    "# function that extracts the category of the venue\n",
    "def get_category_type(row):\n",
    "    try:\n",
    "        categories_list = row['categories']\n",
    "    except:\n",
    "        categories_list = row['venue.categories']\n",
    "    if len(categories_list) == 0:\n",
    "        return None\n",
    "    else:\n",
    "        return categories_list[0]['name']"
   ]
  },
  {
   "cell_type": "markdown",
   "metadata": {},
   "source": [
    "Method to get venues according a nearby location (in both cases, downtown of the cities)"
   ]
  },
  {
   "cell_type": "code",
   "execution_count": 7,
   "metadata": {},
   "outputs": [],
   "source": [
    "# Function definition\n",
    "def getNearbyVenues(names, latitudes, longitudes, radius=500):\n",
    "    venues_list=[]\n",
    "    for name, lat, lng in zip(names, latitudes, longitudes):\n",
    "        ##print(name)\n",
    "        # create the API request URL\n",
    "        url = 'https://api.foursquare.com/v2/venues/explore?client_id={}&client_secret={}&ll={},{}&v={}&radius={}&limit={}'.format(\n",
    "                CLIENT_ID, CLIENT_SECRET, lat, lng, VERSION, radius, LIMIT)\n",
    "        # make the GET request\n",
    "        results = requests.get(url).json()[\"response\"]['groups'][0]['items']\n",
    "        # return only relevant information for each nearby venue\n",
    "        venues_list.append([(name, lat, lng, v['venue']['name'], v['venue']['location']['lat'],\n",
    "                             v['venue']['location']['lng'], v['venue']['categories'][0]['name']) for v in results])\n",
    "    nearby_venues = pd.DataFrame([item for venue_list in venues_list for item in venue_list])\n",
    "    nearby_venues.columns = ['Neighbourhood', 'Neighbourhood Latitude', 'Neighbourhood Longitude', 'Venue',\n",
    "                             'Venue Latitude', 'Venue Longitude', 'Venue Category']\n",
    "    return(nearby_venues)"
   ]
  },
  {
   "cell_type": "markdown",
   "metadata": {},
   "source": [
    "List of common venues from a location"
   ]
  },
  {
   "cell_type": "code",
   "execution_count": 8,
   "metadata": {},
   "outputs": [],
   "source": [
    "# Function to Most Common Vanues\n",
    "def return_most_common_venues(row, num_top_venues):\n",
    "    row_categories = row.iloc[1:]\n",
    "    row_categories_sorted = row_categories.sort_values(ascending=False)\n",
    "    return row_categories_sorted.index.values[0:num_top_venues]"
   ]
  },
  {
   "cell_type": "markdown",
   "metadata": {},
   "source": [
    "Method to get venues from Foursquare API. The result is a new dataframe."
   ]
  },
  {
   "cell_type": "code",
   "execution_count": 9,
   "metadata": {},
   "outputs": [],
   "source": [
    "# Function to return venues from a location\n",
    "def retVenues(results):\n",
    "    venues = results['response']['groups'][0]['items']\n",
    "    nearby_venues = json_normalize(venues) # flatten JSON\n",
    "    # filter columns\n",
    "    filtered_columns = ['venue.name', 'venue.categories', 'venue.location.lat', 'venue.location.lng']\n",
    "    nearby_venues = nearby_venues.loc[:, filtered_columns]\n",
    "    # filter the category for each row\n",
    "    nearby_venues['venue.categories'] = nearby_venues.apply(get_category_type, axis=1)\n",
    "    # clean columns\n",
    "    nearby_venues.columns = [col.split(\".\")[-1] for col in nearby_venues.columns]\n",
    "    return nearby_venues"
   ]
  },
  {
   "cell_type": "markdown",
   "metadata": {},
   "source": [
    "Code to extract numerical information from strings. It will be used in the comparison."
   ]
  },
  {
   "cell_type": "code",
   "execution_count": 10,
   "metadata": {},
   "outputs": [],
   "source": [
    "# Function to extract numbers from strings (used in comparison)\n",
    "def retListNum(s):\n",
    "    newstr = ''.join((ch if ch in '0123456789.' else ' ') for ch in s)\n",
    "    listOfNumbers = [float(i) for i in newstr.split()]\n",
    "    return listOfNumbers"
   ]
  },
  {
   "cell_type": "markdown",
   "metadata": {},
   "source": [
    "Definition of better categories of venues to be used in the comparison from Foursquare (1st criterion)"
   ]
  },
  {
   "cell_type": "code",
   "execution_count": 11,
   "metadata": {},
   "outputs": [],
   "source": [
    "# Venues categories top list (used to first analysis)\n",
    "topList = ['Park', 'Museum', 'Supermarket', 'Bookstore', 'Gym', 'Department Store', 'Pharmacy'\n",
    "          'Shopping Mall', 'Pool', 'Historic Site', 'Monument / Landmark']"
   ]
  },
  {
   "cell_type": "markdown",
   "metadata": {},
   "source": [
    "Definition of better indicators that will be considering in the Versus comparion (2nd criterion)"
   ]
  },
  {
   "cell_type": "code",
   "execution_count": 12,
   "metadata": {},
   "outputs": [],
   "source": [
    "personalCriteria = [0, 2, 7, 12]"
   ]
  },
  {
   "cell_type": "markdown",
   "metadata": {},
   "source": [
    "### Step 2: Data Exploration\n",
    "\n",
    "#### Criterion A: Foursquare Service\n",
    "\n",
    "- **Step_2.1**: Toronto City.\n",
    "\n",
    "--- *Step_2.1.1*: Toronto Venues"
   ]
  },
  {
   "cell_type": "code",
   "execution_count": 13,
   "metadata": {},
   "outputs": [
    {
     "data": {
      "text/html": [
       "<div>\n",
       "<style scoped>\n",
       "    .dataframe tbody tr th:only-of-type {\n",
       "        vertical-align: middle;\n",
       "    }\n",
       "\n",
       "    .dataframe tbody tr th {\n",
       "        vertical-align: top;\n",
       "    }\n",
       "\n",
       "    .dataframe thead th {\n",
       "        text-align: right;\n",
       "    }\n",
       "</style>\n",
       "<table border=\"1\" class=\"dataframe\">\n",
       "  <thead>\n",
       "    <tr style=\"text-align: right;\">\n",
       "      <th></th>\n",
       "      <th>name</th>\n",
       "      <th>categories</th>\n",
       "      <th>lat</th>\n",
       "      <th>lng</th>\n",
       "    </tr>\n",
       "  </thead>\n",
       "  <tbody>\n",
       "    <tr>\n",
       "      <th>0</th>\n",
       "      <td>Downtown Toronto</td>\n",
       "      <td>Neighborhood</td>\n",
       "      <td>43.653232</td>\n",
       "      <td>-79.385296</td>\n",
       "    </tr>\n",
       "    <tr>\n",
       "      <th>1</th>\n",
       "      <td>Art Gallery of Ontario</td>\n",
       "      <td>Art Gallery</td>\n",
       "      <td>43.654003</td>\n",
       "      <td>-79.392922</td>\n",
       "    </tr>\n",
       "    <tr>\n",
       "      <th>2</th>\n",
       "      <td>Pai</td>\n",
       "      <td>Thai Restaurant</td>\n",
       "      <td>43.647923</td>\n",
       "      <td>-79.388579</td>\n",
       "    </tr>\n",
       "    <tr>\n",
       "      <th>3</th>\n",
       "      <td>Byblos Toronto</td>\n",
       "      <td>Mediterranean Restaurant</td>\n",
       "      <td>43.647615</td>\n",
       "      <td>-79.388381</td>\n",
       "    </tr>\n",
       "    <tr>\n",
       "      <th>4</th>\n",
       "      <td>Nathan Phillips Square</td>\n",
       "      <td>Plaza</td>\n",
       "      <td>43.652270</td>\n",
       "      <td>-79.383516</td>\n",
       "    </tr>\n",
       "  </tbody>\n",
       "</table>\n",
       "</div>"
      ],
      "text/plain": [
       "                     name                categories        lat        lng\n",
       "0        Downtown Toronto              Neighborhood  43.653232 -79.385296\n",
       "1  Art Gallery of Ontario               Art Gallery  43.654003 -79.392922\n",
       "2                     Pai           Thai Restaurant  43.647923 -79.388579\n",
       "3          Byblos Toronto  Mediterranean Restaurant  43.647615 -79.388381\n",
       "4  Nathan Phillips Square                     Plaza  43.652270 -79.383516"
      ]
     },
     "execution_count": 13,
     "metadata": {},
     "output_type": "execute_result"
    }
   ],
   "source": [
    "# Toronto data\n",
    "addressToronto = 'Toronto, Ontario, Canada'\n",
    "locationToronto = geolocator.geocode(addressToronto)\n",
    "latitudeToronto = locationToronto.latitude\n",
    "longitudeToronto = locationToronto.longitude\n",
    "# Geo service for Toronto\n",
    "urlToronto = 'https://api.foursquare.com/v2/venues/explore?client_id={}&client_secret={}&ll={},{}&v={}&radius={}&limit={}'.format(\n",
    "    CLIENT_ID, CLIENT_SECRET, latitudeToronto, longitudeToronto, VERSION, radius, LIMIT)\n",
    "resultsToronto = requests.get(urlToronto).json()\n",
    "venuesToronto = retVenues(resultsToronto)\n",
    "venuesToronto.head()"
   ]
  },
  {
   "cell_type": "markdown",
   "metadata": {},
   "source": [
    "General information about the Venues from Toronto"
   ]
  },
  {
   "cell_type": "code",
   "execution_count": 14,
   "metadata": {},
   "outputs": [
    {
     "name": "stdout",
     "output_type": "stream",
     "text": [
      "Toronto has 100 venues returned by Foursquare.\n"
     ]
    }
   ],
   "source": [
    "# General information\n",
    "numVenuesToronto = venuesToronto.shape[0]\n",
    "print('Toronto has {} venues returned by Foursquare.'.format(numVenuesToronto))"
   ]
  },
  {
   "cell_type": "markdown",
   "metadata": {},
   "source": [
    "List of the categories of Venues"
   ]
  },
  {
   "cell_type": "code",
   "execution_count": 15,
   "metadata": {},
   "outputs": [
    {
     "name": "stdout",
     "output_type": "stream",
     "text": [
      "Number of categories of this city (Toronto): 60\n"
     ]
    },
    {
     "data": {
      "text/plain": [
       "array(['Neighborhood', 'Art Gallery', 'Thai Restaurant',\n",
       "       'Mediterranean Restaurant', 'Plaza', 'Concert Hall',\n",
       "       'American Restaurant', 'Clothing Store', 'Sandwich Place',\n",
       "       'Speakeasy', 'Coffee Shop', 'Record Shop', 'Theater',\n",
       "       'Sporting Goods Shop', 'Cosmetics Shop',\n",
       "       'Vegetarian / Vegan Restaurant', 'French Restaurant',\n",
       "       'Pizza Place', 'Movie Theater', 'Café', 'Gym', 'Dessert Shop',\n",
       "       'Mexican Restaurant', 'Restaurant', 'Comedy Club', 'Hotel',\n",
       "       'Arts & Crafts Store', 'Train Station', 'Scenic Lookout',\n",
       "       'Brewery', 'Shoe Store', 'Organic Grocery', 'Hostel', 'Diner',\n",
       "       'Farmers Market', 'Spa', 'Seafood Restaurant',\n",
       "       'Japanese Restaurant', 'Food Truck', 'Park', 'Dance Studio',\n",
       "       'Monument / Landmark', 'Museum', 'Supermarket', 'Salad Place',\n",
       "       'Middle Eastern Restaurant', 'Spanish Restaurant',\n",
       "       'Italian Restaurant', 'Steakhouse', 'Aquarium', 'Baseball Stadium',\n",
       "       'Bar', 'Ramen Restaurant', 'Theme Restaurant', 'Bakery',\n",
       "       'Performing Arts Venue', 'Tapas Restaurant', 'Yoga Studio', 'Lake',\n",
       "       'Butcher'], dtype=object)"
      ]
     },
     "execution_count": 15,
     "metadata": {},
     "output_type": "execute_result"
    }
   ],
   "source": [
    "# List of unique values\n",
    "categoriesToronto = venuesToronto['categories'].unique()\n",
    "numcategoriesToronto = categoriesToronto.shape[0] \n",
    "print('Number of categories of this city (Toronto):',numcategoriesToronto)\n",
    "categoriesToronto"
   ]
  },
  {
   "cell_type": "markdown",
   "metadata": {},
   "source": [
    "--- *Step2.1.2*: Plotting Toronto with Venues"
   ]
  },
  {
   "cell_type": "code",
   "execution_count": 16,
   "metadata": {
    "scrolled": true
   },
   "outputs": [
    {
     "name": "stdout",
     "output_type": "stream",
     "text": [
      "Number of best places: 10\n"
     ]
    },
    {
     "data": {
      "text/html": [
       "<div style=\"width:100%;\"><div style=\"position:relative;width:100%;height:0;padding-bottom:60%;\"><iframe src=\"data:text/html;charset=utf-8;base64,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\" style=\"position:absolute;width:100%;height:100%;left:0;top:0;border:none !important;\" allowfullscreen webkitallowfullscreen mozallowfullscreen></iframe></div></div>"
      ],
      "text/plain": [
       "<folium.folium.Map at 0xc8780b0>"
      ]
     },
     "execution_count": 16,
     "metadata": {},
     "output_type": "execute_result"
    }
   ],
   "source": [
    "# Plotting data\n",
    "strcoordToronto = 'Toronto: {}, {}.'.format(latitudeToronto, longitudeToronto)\n",
    "map_toronto = folium.Map(location = [latitudeToronto, longitudeToronto], zoom_start = 13)\n",
    "folium.CircleMarker([latitudeToronto, longitudeToronto], radius = 7, popup = strcoordToronto, color = 'red', \n",
    "                    fill = True, fill_color = 'white', fill_opacity = 0.7, parse_html = False).add_to(map_toronto)\n",
    "bestPlacesToronto = 0\n",
    "for i in range(numVenuesToronto):\n",
    "    lat = venuesToronto.iloc[i][2]\n",
    "    lng = venuesToronto.iloc[i][3]\n",
    "    label = venuesToronto.iloc[i][1] + \":\\n\" + venuesToronto.iloc[i][0]\n",
    "    # Venues in the top category are ploted in blue; otherwise, black\n",
    "    if (venuesToronto.iloc[i][1] in topList):\n",
    "        folium.CircleMarker([lat, lng], radius = 4, popup = label, color = 'blue', fill = True, fill_color = 'white', \n",
    "                        fill_opacity = 0.3, parse_html = False).add_to(map_toronto)\n",
    "        bestPlacesToronto+=1\n",
    "    else:\n",
    "        folium.CircleMarker([lat, lng], radius = 4, popup = label, color = 'green', fill = True, fill_color = 'white', \n",
    "                        fill_opacity = 0.3, parse_html = False).add_to(map_toronto)\n",
    "print('Number of best places:',bestPlacesToronto)\n",
    "map_toronto"
   ]
  },
  {
   "cell_type": "markdown",
   "metadata": {},
   "source": [
    "- **Step_2.2**: Ottawa City.\n",
    "\n",
    "--- *Step_2.1.1*: Ottawa Venues"
   ]
  },
  {
   "cell_type": "code",
   "execution_count": 17,
   "metadata": {},
   "outputs": [
    {
     "data": {
      "text/html": [
       "<div>\n",
       "<style scoped>\n",
       "    .dataframe tbody tr th:only-of-type {\n",
       "        vertical-align: middle;\n",
       "    }\n",
       "\n",
       "    .dataframe tbody tr th {\n",
       "        vertical-align: top;\n",
       "    }\n",
       "\n",
       "    .dataframe thead th {\n",
       "        text-align: right;\n",
       "    }\n",
       "</style>\n",
       "<table border=\"1\" class=\"dataframe\">\n",
       "  <thead>\n",
       "    <tr style=\"text-align: right;\">\n",
       "      <th></th>\n",
       "      <th>name</th>\n",
       "      <th>categories</th>\n",
       "      <th>lat</th>\n",
       "      <th>lng</th>\n",
       "    </tr>\n",
       "  </thead>\n",
       "  <tbody>\n",
       "    <tr>\n",
       "      <th>0</th>\n",
       "      <td>Confederation Park</td>\n",
       "      <td>Park</td>\n",
       "      <td>45.422069</td>\n",
       "      <td>-75.692518</td>\n",
       "    </tr>\n",
       "    <tr>\n",
       "      <th>1</th>\n",
       "      <td>National Arts Centre - Centre National des Arts</td>\n",
       "      <td>Concert Hall</td>\n",
       "      <td>45.422922</td>\n",
       "      <td>-75.692996</td>\n",
       "    </tr>\n",
       "    <tr>\n",
       "      <th>2</th>\n",
       "      <td>La Bottega</td>\n",
       "      <td>Deli / Bodega</td>\n",
       "      <td>45.426894</td>\n",
       "      <td>-75.691906</td>\n",
       "    </tr>\n",
       "    <tr>\n",
       "      <th>3</th>\n",
       "      <td>Major's Hill Park</td>\n",
       "      <td>Park</td>\n",
       "      <td>45.427040</td>\n",
       "      <td>-75.696863</td>\n",
       "    </tr>\n",
       "    <tr>\n",
       "      <th>4</th>\n",
       "      <td>Rideau Canal</td>\n",
       "      <td>Other Great Outdoors</td>\n",
       "      <td>45.424781</td>\n",
       "      <td>-75.695129</td>\n",
       "    </tr>\n",
       "  </tbody>\n",
       "</table>\n",
       "</div>"
      ],
      "text/plain": [
       "                                              name            categories  \\\n",
       "0                               Confederation Park                  Park   \n",
       "1  National Arts Centre - Centre National des Arts          Concert Hall   \n",
       "2                                       La Bottega         Deli / Bodega   \n",
       "3                                Major's Hill Park                  Park   \n",
       "4                                     Rideau Canal  Other Great Outdoors   \n",
       "\n",
       "         lat        lng  \n",
       "0  45.422069 -75.692518  \n",
       "1  45.422922 -75.692996  \n",
       "2  45.426894 -75.691906  \n",
       "3  45.427040 -75.696863  \n",
       "4  45.424781 -75.695129  "
      ]
     },
     "execution_count": 17,
     "metadata": {},
     "output_type": "execute_result"
    }
   ],
   "source": [
    "# Testing data\n",
    "addressOttawa = 'Ottawa, Ontario, Canada'\n",
    "locationOttawa = geolocator.geocode(addressOttawa)\n",
    "latitudeOttawa = locationOttawa.latitude\n",
    "longitudeOttawa = locationOttawa.longitude\n",
    "# Geo service for Toronto\n",
    "urlOttawa = 'https://api.foursquare.com/v2/venues/explore?client_id={}&client_secret={}&ll={},{}&v={}&radius={}&limit={}'.format(\n",
    "    CLIENT_ID, CLIENT_SECRET, latitudeOttawa, longitudeOttawa, VERSION, radius, LIMIT)\n",
    "resultsOttawa = requests.get(urlOttawa).json()\n",
    "venuesOttawa = retVenues(resultsOttawa)\n",
    "venuesOttawa.head()"
   ]
  },
  {
   "cell_type": "markdown",
   "metadata": {},
   "source": [
    "General information about the Venues from Ottawa"
   ]
  },
  {
   "cell_type": "code",
   "execution_count": 18,
   "metadata": {},
   "outputs": [
    {
     "name": "stdout",
     "output_type": "stream",
     "text": [
      "Ottawa has 100 venues returned by Foursquare.\n"
     ]
    }
   ],
   "source": [
    "# General information\n",
    "numVenuesOttawa = venuesOttawa.shape[0]\n",
    "print('Ottawa has {} venues returned by Foursquare.'.format(numVenuesOttawa))"
   ]
  },
  {
   "cell_type": "markdown",
   "metadata": {},
   "source": [
    "List of Ottawa categories of venues"
   ]
  },
  {
   "cell_type": "code",
   "execution_count": 19,
   "metadata": {},
   "outputs": [
    {
     "name": "stdout",
     "output_type": "stream",
     "text": [
      "Number of categories of this city (Ottawa): 58\n"
     ]
    },
    {
     "data": {
      "text/plain": [
       "array(['Park', 'Concert Hall', 'Deli / Bodega', 'Other Great Outdoors',\n",
       "       'Hotel', 'Restaurant', 'Noodle House', 'Fast Food Restaurant',\n",
       "       'Memorial Site', 'Vegetarian / Vegan Restaurant',\n",
       "       'New American Restaurant', 'Bakery', 'Ice Cream Shop',\n",
       "       'Mexican Restaurant', 'Art Gallery', 'Japanese Restaurant',\n",
       "       'Taco Place', 'Coffee Shop', 'Italian Restaurant',\n",
       "       'Seafood Restaurant', 'Pub', 'Market', 'Salad Place',\n",
       "       'Skating Rink', 'Café', 'Burger Joint',\n",
       "       'Southern / Soul Food Restaurant', 'Tapas Restaurant',\n",
       "       'Indie Movie Theater', 'Breakfast Spot', 'Grocery Store',\n",
       "       'Korean Restaurant', 'Cupcake Shop', 'Steakhouse', 'Yoga Studio',\n",
       "       'Bookstore', 'Middle Eastern Restaurant', 'Bar', 'Pizza Place',\n",
       "       'Museum', 'Historic Site', 'German Restaurant',\n",
       "       'Monument / Landmark', 'French Restaurant', 'History Museum',\n",
       "       'BBQ Joint', 'Plaza', 'Record Shop', 'Bagel Shop', 'Gastropub',\n",
       "       'Movie Theater', 'Football Stadium', 'Brewery', 'Fish Market',\n",
       "       'Theme Restaurant', 'Wine Bar', 'Diner', 'Sandwich Place'],\n",
       "      dtype=object)"
      ]
     },
     "execution_count": 19,
     "metadata": {},
     "output_type": "execute_result"
    }
   ],
   "source": [
    "# List of venues\n",
    "categoriesOttawa = venuesOttawa['categories'].unique()\n",
    "numcategoriesOttawa = categoriesOttawa.shape[0] \n",
    "print('Number of categories of this city (Ottawa):',numcategoriesOttawa)\n",
    "categoriesOttawa"
   ]
  },
  {
   "cell_type": "markdown",
   "metadata": {},
   "source": [
    "--- *Step_2.2.2*: Plotting Ottawa with Venues"
   ]
  },
  {
   "cell_type": "code",
   "execution_count": 20,
   "metadata": {
    "scrolled": true
   },
   "outputs": [
    {
     "name": "stdout",
     "output_type": "stream",
     "text": [
      "Number of best places: 11\n"
     ]
    },
    {
     "data": {
      "text/html": [
       "<div style=\"width:100%;\"><div style=\"position:relative;width:100%;height:0;padding-bottom:60%;\"><iframe src=\"data:text/html;charset=utf-8;base64,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\" style=\"position:absolute;width:100%;height:100%;left:0;top:0;border:none !important;\" allowfullscreen webkitallowfullscreen mozallowfullscreen></iframe></div></div>"
      ],
      "text/plain": [
       "<folium.folium.Map at 0xd0241f0>"
      ]
     },
     "execution_count": 20,
     "metadata": {},
     "output_type": "execute_result"
    }
   ],
   "source": [
    "# Plotting data\n",
    "strcoordOttawa = 'Ottawa: {}, {}.'.format(latitudeOttawa, longitudeOttawa)\n",
    "map_ottawa = folium.Map(location = [latitudeOttawa, longitudeOttawa], zoom_start = 13)\n",
    "folium.CircleMarker([latitudeOttawa, longitudeOttawa], radius = 7, popup = strcoordOttawa, color = 'red', \n",
    "                    fill = True, fill_color = 'white', fill_opacity = 0.7, parse_html = False).add_to(map_ottawa)\n",
    "bestPlacesOttawa = 0\n",
    "for i in range(numVenuesOttawa):\n",
    "    lat = venuesOttawa.iloc[i][2]\n",
    "    lng = venuesOttawa.iloc[i][3]\n",
    "    label = venuesOttawa.iloc[i][1] + \":\\n\" + venuesOttawa.iloc[i][0]\n",
    "    # Venues in the top category are ploted in blue; otherwise, black\n",
    "    if (venuesOttawa.iloc[i][1] in topList):\n",
    "        folium.CircleMarker([lat, lng], radius = 4, popup = label, color = 'blue', fill = True, fill_color = 'white', \n",
    "                        fill_opacity = 0.3, parse_html = False).add_to(map_ottawa)\n",
    "        bestPlacesOttawa+=1\n",
    "    else:\n",
    "        folium.CircleMarker([lat, lng], radius = 4, popup = label, color = 'green', fill = True, fill_color = 'white', \n",
    "                        fill_opacity = 0.3, parse_html = False).add_to(map_ottawa)\n",
    "print('Number of best places:',bestPlacesOttawa)\n",
    "map_ottawa"
   ]
  },
  {
   "cell_type": "markdown",
   "metadata": {},
   "source": [
    "\n",
    "#### Criterion B: Versus Comparison\n",
    "\n",
    "-- **Step_2.3**: The second criterium is based on the Versus City comparison.\n",
    "\n",
    "--- *Step_2.3.1*: Reading information from Versus Site.\n"
   ]
  },
  {
   "cell_type": "code",
   "execution_count": 21,
   "metadata": {},
   "outputs": [],
   "source": [
    "# Reading source - Versus\n",
    "urlAdd = 'https://versus.com/en/ottawa-vs-toronto'\n",
    "source = requests.get(urlAdd).text\n",
    "soup = BeautifulSoup(source, 'html.parser')\n",
    "listtab = []\n",
    "for table in soup.find_all('div',{'class':'tldr'}):\n",
    "    strtab = ''\n",
    "    row1 = ';';\n",
    "    for em in table.find_all('em',{'class':'value'}):\n",
    "        row1 = row1+','+em.text\n",
    "    strtab = strtab + row1+'\\n'\n",
    "    row2=';';\n",
    "    for em in table.find_all('em',{'class':'otherValue'}):\n",
    "        row2 = row2+','+em.text\n",
    "    strtab = strtab + row2+'\\n'\n",
    "    listtab.append(strtab)\n",
    "# Creating head for the future tables\n",
    "head0='PopDensity,MonthlyPubTrans,UnemploymentRate,CostOneBedroom,YoungPop,IncomeIneq,Heritage,AvgMinTemp\\n'\n",
    "head1='AvgMaxTemp,HighAvgTemp,MilInhabitants,BilDGP,HighAvgSal,SportsFacility,CostSingTrans,ForbesBil\\n'\n",
    "# Creating lists to tables\n",
    "strnew = listtab[0]\n",
    "strnew = listtab[0].replace(';,',head0,1)\n",
    "strnew = strnew.replace(';,','',1)\n",
    "listtab[0] = strnew\n",
    "strnew = listtab[1]\n",
    "strnew = listtab[1].replace(';,',head1,1)\n",
    "strnew = strnew.replace(';,','',1)\n",
    "listtab[1] = strnew"
   ]
  },
  {
   "cell_type": "markdown",
   "metadata": {},
   "source": [
    "--- *Step_2.3.2*: Crating tables to dataframe.\n",
    "\n",
    "Cities names"
   ]
  },
  {
   "cell_type": "code",
   "execution_count": 22,
   "metadata": {},
   "outputs": [
    {
     "data": {
      "text/html": [
       "<div>\n",
       "<style scoped>\n",
       "    .dataframe tbody tr th:only-of-type {\n",
       "        vertical-align: middle;\n",
       "    }\n",
       "\n",
       "    .dataframe tbody tr th {\n",
       "        vertical-align: top;\n",
       "    }\n",
       "\n",
       "    .dataframe thead th {\n",
       "        text-align: right;\n",
       "    }\n",
       "</style>\n",
       "<table border=\"1\" class=\"dataframe\">\n",
       "  <thead>\n",
       "    <tr style=\"text-align: right;\">\n",
       "      <th></th>\n",
       "      <th>City</th>\n",
       "    </tr>\n",
       "  </thead>\n",
       "  <tbody>\n",
       "    <tr>\n",
       "      <th>0</th>\n",
       "      <td>Ottawa</td>\n",
       "    </tr>\n",
       "    <tr>\n",
       "      <th>1</th>\n",
       "      <td>Toronto</td>\n",
       "    </tr>\n",
       "  </tbody>\n",
       "</table>\n",
       "</div>"
      ],
      "text/plain": [
       "      City\n",
       "0   Ottawa\n",
       "1  Toronto"
      ]
     },
     "execution_count": 22,
     "metadata": {},
     "output_type": "execute_result"
    }
   ],
   "source": [
    "# Table with City Names\n",
    "strcity = 'City\\nOttawa\\nToronto'\n",
    "CompTabCity = pd.read_csv(StringIO(strcity))\n",
    "CompTabCity"
   ]
  },
  {
   "cell_type": "markdown",
   "metadata": {},
   "source": [
    "Ottawa advantages"
   ]
  },
  {
   "cell_type": "code",
   "execution_count": 23,
   "metadata": {},
   "outputs": [
    {
     "data": {
      "text/html": [
       "<div>\n",
       "<style scoped>\n",
       "    .dataframe tbody tr th:only-of-type {\n",
       "        vertical-align: middle;\n",
       "    }\n",
       "\n",
       "    .dataframe tbody tr th {\n",
       "        vertical-align: top;\n",
       "    }\n",
       "\n",
       "    .dataframe thead th {\n",
       "        text-align: right;\n",
       "    }\n",
       "</style>\n",
       "<table border=\"1\" class=\"dataframe\">\n",
       "  <thead>\n",
       "    <tr style=\"text-align: right;\">\n",
       "      <th></th>\n",
       "      <th>PopDensity</th>\n",
       "      <th>MonthlyPubTrans</th>\n",
       "      <th>UnemploymentRate</th>\n",
       "      <th>CostOneBedroom</th>\n",
       "      <th>YoungPop</th>\n",
       "      <th>IncomeIneq</th>\n",
       "      <th>Heritage</th>\n",
       "      <th>AvgMinTemp</th>\n",
       "    </tr>\n",
       "  </thead>\n",
       "  <tbody>\n",
       "    <tr>\n",
       "      <th>0</th>\n",
       "      <td>1680 people/km²</td>\n",
       "      <td>81.26$</td>\n",
       "      <td>6.3%</td>\n",
       "      <td>902.6$</td>\n",
       "      <td>36.7 years</td>\n",
       "      <td>0.440</td>\n",
       "      <td>1</td>\n",
       "      <td>1.5°C</td>\n",
       "    </tr>\n",
       "    <tr>\n",
       "      <th>1</th>\n",
       "      <td>4150 people/km²</td>\n",
       "      <td>105.01$</td>\n",
       "      <td>9.9%</td>\n",
       "      <td>1199.1$</td>\n",
       "      <td>36.9 years</td>\n",
       "      <td>0.441</td>\n",
       "      <td>0</td>\n",
       "      <td>6.2°C</td>\n",
       "    </tr>\n",
       "  </tbody>\n",
       "</table>\n",
       "</div>"
      ],
      "text/plain": [
       "        PopDensity MonthlyPubTrans UnemploymentRate CostOneBedroom  \\\n",
       "0  1680 people/km²          81.26$             6.3%         902.6$   \n",
       "1  4150 people/km²         105.01$             9.9%        1199.1$   \n",
       "\n",
       "     YoungPop  IncomeIneq  Heritage AvgMinTemp  \n",
       "0  36.7 years       0.440         1      1.5°C  \n",
       "1  36.9 years       0.441         0      6.2°C  "
      ]
     },
     "execution_count": 23,
     "metadata": {},
     "output_type": "execute_result"
    }
   ],
   "source": [
    "# Table 0: Advantages of Ottawa\n",
    "CompTab0 = pd.read_csv(StringIO(listtab[0]))\n",
    "CompTab0"
   ]
  },
  {
   "cell_type": "markdown",
   "metadata": {},
   "source": [
    "Toronto advantages"
   ]
  },
  {
   "cell_type": "code",
   "execution_count": 24,
   "metadata": {},
   "outputs": [
    {
     "data": {
      "text/html": [
       "<div>\n",
       "<style scoped>\n",
       "    .dataframe tbody tr th:only-of-type {\n",
       "        vertical-align: middle;\n",
       "    }\n",
       "\n",
       "    .dataframe tbody tr th {\n",
       "        vertical-align: top;\n",
       "    }\n",
       "\n",
       "    .dataframe thead th {\n",
       "        text-align: right;\n",
       "    }\n",
       "</style>\n",
       "<table border=\"1\" class=\"dataframe\">\n",
       "  <thead>\n",
       "    <tr style=\"text-align: right;\">\n",
       "      <th></th>\n",
       "      <th>AvgMaxTemp</th>\n",
       "      <th>HighAvgTemp</th>\n",
       "      <th>MilInhabitants</th>\n",
       "      <th>BilDGP</th>\n",
       "      <th>HighAvgSal</th>\n",
       "      <th>SportsFacility</th>\n",
       "      <th>CostSingTrans</th>\n",
       "      <th>ForbesBil</th>\n",
       "    </tr>\n",
       "  </thead>\n",
       "  <tbody>\n",
       "    <tr>\n",
       "      <th>0</th>\n",
       "      <td>11.9°C</td>\n",
       "      <td>9.1°C</td>\n",
       "      <td>2.62 million</td>\n",
       "      <td>270$ billion</td>\n",
       "      <td>2574.92$</td>\n",
       "      <td>3</td>\n",
       "      <td>2.41$</td>\n",
       "      <td>5</td>\n",
       "    </tr>\n",
       "    <tr>\n",
       "      <th>1</th>\n",
       "      <td>10.9°C</td>\n",
       "      <td>6.2°C</td>\n",
       "      <td>0.88 million</td>\n",
       "      <td>40$ billion</td>\n",
       "      <td>2441.68$</td>\n",
       "      <td>1</td>\n",
       "      <td>2.62$</td>\n",
       "      <td>0</td>\n",
       "    </tr>\n",
       "  </tbody>\n",
       "</table>\n",
       "</div>"
      ],
      "text/plain": [
       "  AvgMaxTemp HighAvgTemp MilInhabitants         BilDGP HighAvgSal  \\\n",
       "0     11.9°C       9.1°C   2.62 million  270$ billion    2574.92$   \n",
       "1     10.9°C       6.2°C   0.88 million   40$ billion    2441.68$   \n",
       "\n",
       "   SportsFacility CostSingTrans  ForbesBil  \n",
       "0               3         2.41$          5  \n",
       "1               1         2.62$          0  "
      ]
     },
     "execution_count": 24,
     "metadata": {},
     "output_type": "execute_result"
    }
   ],
   "source": [
    "# Table 1: Advantages of Toronto\n",
    "CompTab1 = pd.read_csv(StringIO(listtab[1]))\n",
    "CompTab1"
   ]
  },
  {
   "cell_type": "markdown",
   "metadata": {},
   "source": [
    "Adjusting Table 1 to maintain the same order: Ottawa x Toronto"
   ]
  },
  {
   "cell_type": "code",
   "execution_count": 25,
   "metadata": {},
   "outputs": [
    {
     "data": {
      "text/html": [
       "<div>\n",
       "<style scoped>\n",
       "    .dataframe tbody tr th:only-of-type {\n",
       "        vertical-align: middle;\n",
       "    }\n",
       "\n",
       "    .dataframe tbody tr th {\n",
       "        vertical-align: top;\n",
       "    }\n",
       "\n",
       "    .dataframe thead th {\n",
       "        text-align: right;\n",
       "    }\n",
       "</style>\n",
       "<table border=\"1\" class=\"dataframe\">\n",
       "  <thead>\n",
       "    <tr style=\"text-align: right;\">\n",
       "      <th></th>\n",
       "      <th>AvgMaxTemp</th>\n",
       "      <th>HighAvgTemp</th>\n",
       "      <th>MilInhabitants</th>\n",
       "      <th>BilDGP</th>\n",
       "      <th>HighAvgSal</th>\n",
       "      <th>SportsFacility</th>\n",
       "      <th>CostSingTrans</th>\n",
       "      <th>ForbesBil</th>\n",
       "    </tr>\n",
       "  </thead>\n",
       "  <tbody>\n",
       "    <tr>\n",
       "      <th>0</th>\n",
       "      <td>10.9°C</td>\n",
       "      <td>6.2°C</td>\n",
       "      <td>0.88 million</td>\n",
       "      <td>40$ billion</td>\n",
       "      <td>2441.68$</td>\n",
       "      <td>1</td>\n",
       "      <td>2.62$</td>\n",
       "      <td>0</td>\n",
       "    </tr>\n",
       "    <tr>\n",
       "      <th>1</th>\n",
       "      <td>11.9°C</td>\n",
       "      <td>9.1°C</td>\n",
       "      <td>2.62 million</td>\n",
       "      <td>270$ billion</td>\n",
       "      <td>2574.92$</td>\n",
       "      <td>3</td>\n",
       "      <td>2.41$</td>\n",
       "      <td>5</td>\n",
       "    </tr>\n",
       "  </tbody>\n",
       "</table>\n",
       "</div>"
      ],
      "text/plain": [
       "  AvgMaxTemp HighAvgTemp MilInhabitants         BilDGP HighAvgSal  \\\n",
       "0     10.9°C       6.2°C   0.88 million   40$ billion    2441.68$   \n",
       "1     11.9°C       9.1°C   2.62 million  270$ billion    2574.92$   \n",
       "\n",
       "   SportsFacility CostSingTrans  ForbesBil  \n",
       "0               1         2.62$          0  \n",
       "1               3         2.41$          5  "
      ]
     },
     "execution_count": 25,
     "metadata": {},
     "output_type": "execute_result"
    }
   ],
   "source": [
    "# Temporary table - Reordering the raws in the Toronto advantages\n",
    "CompTab2 = CompTab1\n",
    "line0, line1 = CompTab2.iloc[0].copy(), CompTab2.iloc[1].copy()\n",
    "CompTab2.iloc[0], CompTab2.iloc[1] = line1, line0\n",
    "CompTab2"
   ]
  },
  {
   "cell_type": "markdown",
   "metadata": {},
   "source": [
    "Merging tables in one final dataset"
   ]
  },
  {
   "cell_type": "code",
   "execution_count": 26,
   "metadata": {},
   "outputs": [
    {
     "data": {
      "text/html": [
       "<div>\n",
       "<style scoped>\n",
       "    .dataframe tbody tr th:only-of-type {\n",
       "        vertical-align: middle;\n",
       "    }\n",
       "\n",
       "    .dataframe tbody tr th {\n",
       "        vertical-align: top;\n",
       "    }\n",
       "\n",
       "    .dataframe thead th {\n",
       "        text-align: right;\n",
       "    }\n",
       "</style>\n",
       "<table border=\"1\" class=\"dataframe\">\n",
       "  <thead>\n",
       "    <tr style=\"text-align: right;\">\n",
       "      <th></th>\n",
       "      <th>City</th>\n",
       "      <th>PopDensity</th>\n",
       "      <th>MonthlyPubTrans</th>\n",
       "      <th>UnemploymentRate</th>\n",
       "      <th>CostOneBedroom</th>\n",
       "      <th>YoungPop</th>\n",
       "      <th>IncomeIneq</th>\n",
       "      <th>Heritage</th>\n",
       "      <th>AvgMinTemp</th>\n",
       "      <th>AvgMaxTemp</th>\n",
       "      <th>HighAvgTemp</th>\n",
       "      <th>MilInhabitants</th>\n",
       "      <th>BilDGP</th>\n",
       "      <th>HighAvgSal</th>\n",
       "      <th>SportsFacility</th>\n",
       "      <th>CostSingTrans</th>\n",
       "      <th>ForbesBil</th>\n",
       "    </tr>\n",
       "  </thead>\n",
       "  <tbody>\n",
       "    <tr>\n",
       "      <th>0</th>\n",
       "      <td>Ottawa</td>\n",
       "      <td>1680 people/km²</td>\n",
       "      <td>81.26$</td>\n",
       "      <td>6.3%</td>\n",
       "      <td>902.6$</td>\n",
       "      <td>36.7 years</td>\n",
       "      <td>0.440</td>\n",
       "      <td>1</td>\n",
       "      <td>1.5°C</td>\n",
       "      <td>10.9°C</td>\n",
       "      <td>6.2°C</td>\n",
       "      <td>0.88 million</td>\n",
       "      <td>40$ billion</td>\n",
       "      <td>2441.68$</td>\n",
       "      <td>1</td>\n",
       "      <td>2.62$</td>\n",
       "      <td>0</td>\n",
       "    </tr>\n",
       "    <tr>\n",
       "      <th>1</th>\n",
       "      <td>Toronto</td>\n",
       "      <td>4150 people/km²</td>\n",
       "      <td>105.01$</td>\n",
       "      <td>9.9%</td>\n",
       "      <td>1199.1$</td>\n",
       "      <td>36.9 years</td>\n",
       "      <td>0.441</td>\n",
       "      <td>0</td>\n",
       "      <td>6.2°C</td>\n",
       "      <td>11.9°C</td>\n",
       "      <td>9.1°C</td>\n",
       "      <td>2.62 million</td>\n",
       "      <td>270$ billion</td>\n",
       "      <td>2574.92$</td>\n",
       "      <td>3</td>\n",
       "      <td>2.41$</td>\n",
       "      <td>5</td>\n",
       "    </tr>\n",
       "  </tbody>\n",
       "</table>\n",
       "</div>"
      ],
      "text/plain": [
       "      City       PopDensity MonthlyPubTrans UnemploymentRate CostOneBedroom  \\\n",
       "0   Ottawa  1680 people/km²          81.26$             6.3%         902.6$   \n",
       "1  Toronto  4150 people/km²         105.01$             9.9%        1199.1$   \n",
       "\n",
       "     YoungPop  IncomeIneq  Heritage AvgMinTemp AvgMaxTemp HighAvgTemp  \\\n",
       "0  36.7 years       0.440         1      1.5°C     10.9°C       6.2°C   \n",
       "1  36.9 years       0.441         0      6.2°C     11.9°C       9.1°C   \n",
       "\n",
       "  MilInhabitants         BilDGP HighAvgSal  SportsFacility CostSingTrans  \\\n",
       "0   0.88 million   40$ billion    2441.68$               1         2.62$   \n",
       "1   2.62 million  270$ billion    2574.92$               3         2.41$   \n",
       "\n",
       "   ForbesBil  \n",
       "0          0  \n",
       "1          5  "
      ]
     },
     "execution_count": 26,
     "metadata": {},
     "output_type": "execute_result"
    }
   ],
   "source": [
    "# New table marging all previous tables\n",
    "frames = [CompTabCity, CompTab0, CompTab2]\n",
    "CompTab = pd.concat(frames, axis=1, sort=False)\n",
    "CompTab"
   ]
  },
  {
   "cell_type": "markdown",
   "metadata": {},
   "source": [
    "--- *Step_2.3.3*: Getting advantages of the cities"
   ]
  },
  {
   "cell_type": "code",
   "execution_count": 27,
   "metadata": {},
   "outputs": [],
   "source": [
    "# Preparation of lists of indicators\n",
    "tam = CompTab.shape[1]\n",
    "listNum = []\n",
    "for i in range(tam-1):\n",
    "    try:\n",
    "        s1 = CompTab.iloc[0][i+1]\n",
    "        s2 = CompTab.iloc[1][i+1]\n",
    "        s = s1 + ' ' + s2\n",
    "    except:        \n",
    "        f1 = CompTab.iloc[0][i+1].item()\n",
    "        s1 = str(f1)\n",
    "        f2 = CompTab.iloc[1][i+1].item()\n",
    "        s2 = str(f2)\n",
    "        s = s1 + ' ' + s2        \n",
    "    finally:\n",
    "        newlist = retListNum(s)\n",
    "        listNum.append(newlist)"
   ]
  },
  {
   "cell_type": "markdown",
   "metadata": {},
   "source": [
    "--- *Step_2.3.4*: Computing the general indicators"
   ]
  },
  {
   "cell_type": "code",
   "execution_count": 28,
   "metadata": {},
   "outputs": [
    {
     "name": "stdout",
     "output_type": "stream",
     "text": [
      "COMPARISON DETAILS [Ottawa x Toronto]\n",
      " * Comparing( 0 ): Population density : 1680.0 < 4150.0 = Ottawa wins!\n",
      " * Comparing( 1 ): Monthly public transport ticket : 81.26 < 105.01 = Ottawa wins!\n",
      " * Comparing( 2 ): Unemployment rate : 6.3 < 9.9 = Ottawa wins!\n",
      " * Comparing( 3 ): Cost of one-bedroom ap. in the center : 902.6 < 1199.1 = Ottawa wins!\n",
      " * Comparing( 4 ): Younger population : 36.7 < 36.9 = Ottawa wins!\n",
      " * Comparing( 5 ): Income inequalities : 0.44 < 0.441 = Ottawa wins!\n",
      " * Comparing( 6 ): Landmarks from UNESCO World Heritage list : 1.0 > 0.0 = Ottawa wins!\n",
      " * Comparing( 7 ): Average minimum temperature : 1.5 < 6.2 = Ottawa wins!\n",
      " * Comparing( 8 ): Higher average maximum temperature : 10.9 > 11.9 = Toronto wins!\n",
      " * Comparing( 9 ): Higher average temperature : 6.2 > 9.1 = Toronto wins!\n",
      " * Comparing( 10 ): Million inhabitants : 0.88 > 2.62 = Toronto wins!\n",
      " * Comparing( 11 ): Billion higher gross domestic product (GDP) : 40.0 > 270.0 = Toronto wins!\n",
      " * Comparing( 12 ): Higher average salary : 2441.68 > 2574.92 = Toronto wins!\n",
      " * Comparing( 13 ): 2 more big sport facilities : 1.0 > 3.0 = Toronto wins!\n",
      " * Comparing( 14 ): Cost of one single transportation ticket : 2.62 < 2.41 = Toronto wins!\n",
      " * Comparing( 15 ): Billionaires from annual Forbes : 0.0 > 5.0 = Toronto wins!\n"
     ]
    }
   ],
   "source": [
    "# Comparison, considering MIN and MAX values\n",
    "MIN = 0\n",
    "MAX = 1\n",
    "listCriteria = [MIN, MIN, MIN, MIN, MIN, MIN, MAX, MIN,\n",
    "                MAX, MAX, MAX, MAX, MAX, MAX, MIN, MAX]\n",
    "listDetails = ['Population density', 'Monthly public transport ticket', 'Unemployment rate',\n",
    "               'Cost of one-bedroom ap. in the center', 'Younger population', \n",
    "               'Income inequalities', 'Landmarks from UNESCO World Heritage list', \n",
    "               'Average minimum temperature', 'Higher average maximum temperature', \n",
    "               'Higher average temperature', 'Million inhabitants', \n",
    "               'Billion higher gross domestic product (GDP)', 'Higher average salary',\n",
    "               '2 more big sport facilities', 'Cost of one single transportation ticket',\n",
    "               'Billionaires from annual Forbes']\n",
    "tam = len(listCriteria)\n",
    "contOttawa = 0\n",
    "contToronto = 0\n",
    "print('COMPARISON DETAILS [Ottawa x Toronto]')\n",
    "listWin = []\n",
    "OTT = 0\n",
    "TOR = 1\n",
    "for i in range(tam):\n",
    "    if (listCriteria[i]==MIN):\n",
    "        if (listNum[i][0]<listNum[i][1]):\n",
    "            contOttawa += 1\n",
    "            #print(' * ',CompTab.columns[i+1],'- Comparing',listNum[i][0],'<',listNum[i][1],': Ottawa wins!')\n",
    "            print(' * Comparing(',i,'):',listDetails[i],':',listNum[i][0],'<',listNum[i][1],'= Ottawa wins!')\n",
    "            listWin.append(OTT)\n",
    "        else:\n",
    "            contToronto += 1\n",
    "            print(' * Comparing(',i,'):',listDetails[i],':',listNum[i][0],'<',listNum[i][1],'= Toronto wins!')\n",
    "            listWin.append(TOR)\n",
    "    else:\n",
    "        if (listNum[i][0]>listNum[i][1]):\n",
    "            contOttawa += 1\n",
    "            print(' * Comparing(',i,'):',listDetails[i],':',listNum[i][0],'>',listNum[i][1],'= Ottawa wins!')\n",
    "            listWin.append(OTT)\n",
    "        else:\n",
    "            contToronto += 1\n",
    "            print(' * Comparing(',i,'):',listDetails[i],':',listNum[i][0],'>',listNum[i][1],'= Toronto wins!')\n",
    "            listWin.append(TOR)\n"
   ]
  },
  {
   "cell_type": "markdown",
   "metadata": {},
   "source": [
    "--- *Step_2.3.5*: Choosing the best indicators (personal view)."
   ]
  },
  {
   "cell_type": "code",
   "execution_count": 29,
   "metadata": {},
   "outputs": [],
   "source": [
    "pointOtt = 0\n",
    "pointTor = 0\n",
    "for i in range(len(personalCriteria)):\n",
    "    if (listWin[personalCriteria[i]] == OTT):\n",
    "        pointOtt+=1\n",
    "    else:\n",
    "        pointTor+=1"
   ]
  },
  {
   "cell_type": "markdown",
   "metadata": {},
   "source": [
    "## Step 3: Conclusion\n",
    "### 3.1. Foursquare Venues"
   ]
  },
  {
   "cell_type": "code",
   "execution_count": 30,
   "metadata": {},
   "outputs": [
    {
     "name": "stdout",
     "output_type": "stream",
     "text": [
      "* CRITERIA 1 **************************************************\n",
      "Toronto Downtown = 100 , Ottawa downtown= 100\n",
      "Best places to family: Toronto = 10 x Ottawa = 11\n",
      "***************************************************************\n"
     ]
    }
   ],
   "source": [
    "print('* CRITERIA 1 **************************************************')\n",
    "print('Toronto Downtown =',numVenuesToronto,', Ottawa downtown=',numVenuesOttawa)\n",
    "print('Best places to family: Toronto =',bestPlacesToronto,'x Ottawa =',bestPlacesOttawa)\n",
    "print('***************************************************************')"
   ]
  },
  {
   "cell_type": "markdown",
   "metadata": {},
   "source": [
    "### 3.2. Versus Comparison"
   ]
  },
  {
   "cell_type": "code",
   "execution_count": 31,
   "metadata": {},
   "outputs": [
    {
     "name": "stdout",
     "output_type": "stream",
     "text": [
      "* CRITERIA 2 **************************************************\n",
      "Ottawa advantages: 8 x Toronto advantages: 8\n",
      "Best indicator ponctuation: Toronto = 1 x Ottawa = 3\n",
      "***************************************************************\n"
     ]
    }
   ],
   "source": [
    "print('* CRITERIA 2 **************************************************')\n",
    "print('Ottawa advantages:',contOttawa,'x Toronto advantages:',contToronto)\n",
    "print('Best indicator ponctuation: Toronto =',pointTor,'x Ottawa =',pointOtt)\n",
    "print('***************************************************************')"
   ]
  },
  {
   "cell_type": "markdown",
   "metadata": {},
   "source": [
    "### 3.3. Final Comparison Graph "
   ]
  },
  {
   "cell_type": "code",
   "execution_count": 32,
   "metadata": {},
   "outputs": [
    {
     "data": {
      "text/plain": [
       "<matplotlib.axes._subplots.AxesSubplot at 0xe32f0d0>"
      ]
     },
     "execution_count": 32,
     "metadata": {},
     "output_type": "execute_result"
    },
    {
     "data": {
      "image/png": "[encoded data removed]",
      "text/plain": [
       "<Figure size 432x288 with 2 Axes>"
      ]
     },
     "metadata": {
      "needs_background": "light"
     },
     "output_type": "display_data"
    }
   ],
   "source": [
    "arrayCities = np.array([[bestPlacesToronto, bestPlacesOttawa, pointTor, pointOtt]], np.int32)\n",
    "dfCities = pd.DataFrame(arrayCities, columns=['bestPlaceTor', 'bestPlaceOtt', 'pointTor', 'pointOtt'])\n",
    "fig, axes = plt.subplots(nrows=1, ncols=2)\n",
    "dfCities[['bestPlaceTor', 'bestPlaceOtt']].plot(ax=axes[0],kind='bar', title='Best Places')\n",
    "dfCities[['pointTor', 'pointOtt']].plot(ax=axes[1], kind='bar', title='Criteria Points')"
   ]
  },
  {
   "cell_type": "markdown",
   "metadata": {},
   "source": [
    "**FINAL CONCLUSION**\n",
    "\n",
    "Both cities (Ottawa and Toronto) have similar advantages / disadvantages.\n",
    "\n",
    "However, under a specific point of view, the factors (most related with family benefits) can help to diferentiate the two cities and we can get a different perspective of them. \n",
    "\n",
    "However, under personal point of view of two different criteria: *best places* and *best criteria ponctuation*, **Ottawa** was considered better.\n",
    "\n",
    "These are some reasons why, considering personal preferences, our family decided to move to Ottawa, Capital City. And in fact, we are loving this city."
   ]
  },
  {
   "cell_type": "code",
   "execution_count": null,
   "metadata": {},
   "outputs": [],
   "source": []
  }
 ],
 "metadata": {
  "kernelspec": {
   "display_name": "Python 3",
   "language": "python",
   "name": "python3"
  },
  "language_info": {
   "codemirror_mode": {
    "name": "ipython",
    "version": 3
   },
   "file_extension": ".py",
   "mimetype": "text/x-python",
   "name": "python",
   "nbconvert_exporter": "python",
   "pygments_lexer": "ipython3",
   "version": "3.6.5"
  }
 },
 "nbformat": 4,
 "nbformat_minor": 2
}
